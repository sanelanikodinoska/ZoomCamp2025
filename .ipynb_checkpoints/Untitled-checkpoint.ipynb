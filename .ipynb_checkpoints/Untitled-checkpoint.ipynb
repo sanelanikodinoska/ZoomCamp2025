{
 "cells": [
  {
   "cell_type": "code",
   "execution_count": null,
   "id": "8d697169-6468-4599-86a0-4668261f9575",
   "metadata": {},
   "outputs": [],
   "source": []
  }
 ],
 "metadata": {
  "kernelspec": {
   "display_name": "",
   "name": ""
  },
  "language_info": {
   "name": ""
  }
 },
 "nbformat": 4,
 "nbformat_minor": 5
}
